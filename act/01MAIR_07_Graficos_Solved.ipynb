{
 "cells": [
  {
   "cell_type": "markdown",
   "metadata": {
    "slideshow": {
     "slide_type": "slide"
    }
   },
   "source": [
    "# Ejercicios\n",
    "\n",
    "- Representación gráfica con matplotlib y seaborn"
   ]
  },
  {
   "cell_type": "markdown",
   "metadata": {
    "slideshow": {
     "slide_type": "subslide"
    }
   },
   "source": [
    "## matplotlib"
   ]
  },
  {
   "cell_type": "markdown",
   "metadata": {
    "slideshow": {
     "slide_type": "fragment"
    }
   },
   "source": [
    "- crear una lista de años de 2000 a 2020 (eje x)\n",
    "- generar datos aleatorios para el eje y (hacerlo 4 veces distintas: y0, y1, y2 e y3)\n",
    "- Representar las 4 secuencias de datos aleatorios en una sola figura utilizando matplotlib"
   ]
  },
  {
   "cell_type": "code",
   "execution_count": null,
   "metadata": {},
   "outputs": [],
   "source": [
    "import matplotlib.pyplot as plt\n",
    "import numpy as np\n",
    "%matplotlib inline"
   ]
  },
  {
   "cell_type": "code",
   "execution_count": null,
   "metadata": {},
   "outputs": [],
   "source": [
    "data_year = np.arange(2000, 2021)\n",
    "print(data_year)\n",
    "\n",
    "list_data_y = []\n",
    "for i in range(4):\n",
    "    list_data_y.append(np.random.randint(20,40,size=21))\n",
    "    \n",
    "print(list_data_y)"
   ]
  },
  {
   "cell_type": "code",
   "execution_count": null,
   "metadata": {},
   "outputs": [],
   "source": [
    "fig, axes = plt.subplots()\n",
    "for lista in list_data_y:\n",
    "    axes.plot(data_year, lista)\n",
    "\n",
    "plt.show()"
   ]
  },
  {
   "cell_type": "markdown",
   "metadata": {
    "slideshow": {
     "slide_type": "fragment"
    }
   },
   "source": [
    "- Añade una leyenda para poder identificar cada secuencia en el gráfico\n",
    "- Nombra las secuencias de la siguiente forma: \"Hawaii\", \"San Marino\", \"Islas Feroe\", \"Guayana\""
   ]
  },
  {
   "cell_type": "code",
   "execution_count": null,
   "metadata": {},
   "outputs": [],
   "source": [
    "fig, axes = plt.subplots()\n",
    "for i, lista in enumerate(list_data_y):\n",
    "    axes.plot(data_year, lista, label = f\"Sec {i}\")\n",
    "\n",
    "axes.legend(loc='best')\n",
    "plt.show()"
   ]
  },
  {
   "cell_type": "code",
   "execution_count": null,
   "metadata": {},
   "outputs": [],
   "source": [
    "lista_names = [\"Hawaii\", \"San Marino\", \"Islas Feroe\", \"Guayana\"]\n",
    "fig, axes = plt.subplots()\n",
    "for i, lista in enumerate(list_data_y):\n",
    "    axes.plot(data_year, lista, label = lista_names[i])\n",
    "\n",
    "axes.legend(loc='best')\n",
    "plt.show()"
   ]
  },
  {
   "cell_type": "markdown",
   "metadata": {
    "slideshow": {
     "slide_type": "fragment"
    }
   },
   "source": [
    "- Representar los mismos datos en 4 subfiguras (axes) distintas, parte de la misma figura"
   ]
  },
  {
   "cell_type": "code",
   "execution_count": null,
   "metadata": {},
   "outputs": [],
   "source": [
    "lista_names = [\"Hawaii\", \"San Marino\", \"Islas Feroe\", \"Guayana\"]\n",
    "lista_styles = ['go-', 'ro-', 'bo-', 'yo-']\n",
    "fig, axes = plt.subplots(4,1)\n",
    "for i, ax in enumerate(axes):\n",
    "    ax.plot(data_year, list_data_y[i], lista_styles[i], label = lista_names[i])\n",
    "    ax.legend(loc='best')\n",
    "plt.show()"
   ]
  },
  {
   "cell_type": "markdown",
   "metadata": {
    "slideshow": {
     "slide_type": "fragment"
    }
   },
   "source": [
    "- Añade la siguiente info:\n",
    " - Título: \"Datos aleatorios\"\n",
    " - Leyenda\n",
    " - Nombre del eje x: \"Año\"\n",
    " - Nombre del eje y: \"GDP\""
   ]
  },
  {
   "cell_type": "code",
   "execution_count": null,
   "metadata": {},
   "outputs": [],
   "source": [
    "lista_names = [\"Hawaii\", \"San Marino\", \"Islas Feroe\", \"Guayana\"]\n",
    "lista_styles = ['go-', 'ro-', 'bo-', 'yo-']\n",
    "fig, axes = plt.subplots(4,1)\n",
    "fig.suptitle('Datos aleatorios')\n",
    "for i, ax in enumerate(axes):\n",
    "    ax.plot(data_year, list_data_y[i], lista_styles[i], label = lista_names[i])\n",
    "    ax.legend(loc='best')\n",
    "    ax.set_ylabel('GDP')\n",
    "    ax.set_xlim(2000, 2018)\n",
    "    \n",
    "    if i == 3:\n",
    "        plt.setp(ax.get_xticklabels(), visible = True)\n",
    "        ax.set_xlabel('Año')\n",
    "    else:\n",
    "        plt.setp(ax.get_xticklabels(), visible = False)\n",
    "plt.show()"
   ]
  },
  {
   "cell_type": "markdown",
   "metadata": {
    "slideshow": {
     "slide_type": "fragment"
    }
   },
   "source": [
    "- Añade al menos una anotación (texto y flecha) a uno de los gráficos"
   ]
  },
  {
   "cell_type": "code",
   "execution_count": null,
   "metadata": {},
   "outputs": [],
   "source": [
    "lista_names = [\"Hawaii\", \"San Marino\", \"Islas Feroe\", \"Guayana\"]\n",
    "lista_styles = ['go-', 'ro-', 'bo-', 'yo-']\n",
    "fig, axes = plt.subplots(4,1)\n",
    "fig.suptitle('Datos aleatorios')\n",
    "for i, ax in enumerate(axes):\n",
    "    ax.plot(data_year, list_data_y[i], lista_styles[i], label = lista_names[i])\n",
    "    ax.legend(loc='best')\n",
    "    ax.set_ylabel('GDP')\n",
    "    ax.set_xlim(2000, 2018)\n",
    "    \n",
    "    if i == 3:\n",
    "        plt.setp(ax.get_xticklabels(), visible = True)\n",
    "        ax.set_xlabel('Año')\n",
    "        ax.annotate('outlier', xy=(2014, 35), xytext=(2014, 20), \n",
    "                    arrowprops = dict(facecolor='black', shrink=0.01))\n",
    "    else:\n",
    "        plt.setp(ax.get_xticklabels(), visible = False)\n",
    "\n",
    "plt.xticks(rotation=45)\n",
    "plt.show()"
   ]
  },
  {
   "cell_type": "markdown",
   "metadata": {
    "slideshow": {
     "slide_type": "slide"
    }
   },
   "source": [
    "## Seaborn"
   ]
  },
  {
   "cell_type": "code",
   "execution_count": null,
   "metadata": {},
   "outputs": [],
   "source": [
    "import seaborn as sns"
   ]
  },
  {
   "cell_type": "markdown",
   "metadata": {
    "slideshow": {
     "slide_type": "fragment"
    }
   },
   "source": [
    "- Carga los datos de un dataset de seaborn (distinto a 'tips', 'iris' o 'flights') https://github.com/mwaskom/seaborn-data\n",
    " - Si para alguno de los ejercicios no encuentras ejemplos en el dataset, busca otro para completarlo\n",
    " - Recuerda utilizar la versión 'Raw' si se utiliza la URL en el método read_csv"
   ]
  },
  {
   "cell_type": "code",
   "execution_count": null,
   "metadata": {},
   "outputs": [],
   "source": [
    "mpg = sns.load_dataset(\"mpg\")\n",
    "mpg.sample(5)"
   ]
  },
  {
   "cell_type": "markdown",
   "metadata": {
    "slideshow": {
     "slide_type": "fragment"
    }
   },
   "source": [
    "- Representa visualmente la relación de cada pareja de atributos (variables)"
   ]
  },
  {
   "cell_type": "code",
   "execution_count": null,
   "metadata": {},
   "outputs": [],
   "source": [
    "sns.pairplot(mpg, hue='origin')"
   ]
  },
  {
   "cell_type": "markdown",
   "metadata": {
    "slideshow": {
     "slide_type": "fragment"
    }
   },
   "source": [
    "- Escoge una pareja (ambos valores contínuos y numéricos) y demuestra su correlación"
   ]
  },
  {
   "cell_type": "code",
   "execution_count": null,
   "metadata": {},
   "outputs": [],
   "source": [
    "sns.lmplot(data=mpg, x='horsepower', y='mpg')"
   ]
  },
  {
   "cell_type": "markdown",
   "metadata": {
    "slideshow": {
     "slide_type": "fragment"
    }
   },
   "source": [
    "- Representa los valores de dos variables (x e y, numéricas) en base a otra variable (categórica)"
   ]
  },
  {
   "cell_type": "code",
   "execution_count": null,
   "metadata": {},
   "outputs": [],
   "source": [
    "sns.relplot(data=mpg, x='horsepower', y='mpg', hue='cylinders', col='origin')"
   ]
  },
  {
   "cell_type": "markdown",
   "metadata": {
    "slideshow": {
     "slide_type": "fragment"
    }
   },
   "source": [
    "- Crea los gráficos que demuestren lo siguiente en el dataset seleccionado:\n",
    " - La distribución de valores (media, distribución, outliers) de una variable numérica contínua\n",
    " - Compara la distribución de esa variable con otra (contínua y numérica) para representar cuantitativamente la densidad de elementos por valor en ambas variables\n",
    " - Muestra un ejemplo en el dataset de una variable a la que un modelo de regresión lineal de orden > 1 sea más ajustado que uno de orden == 1"
   ]
  },
  {
   "cell_type": "code",
   "execution_count": null,
   "metadata": {},
   "outputs": [],
   "source": [
    "sns.regplot(data=mpg, x='mpg', y='horsepower', order = 3)"
   ]
  },
  {
   "cell_type": "code",
   "execution_count": null,
   "metadata": {},
   "outputs": [],
   "source": [
    "sns.jointplot(data=mpg, x='mpg', y='horsepower', kind='kde')"
   ]
  },
  {
   "cell_type": "code",
   "execution_count": null,
   "metadata": {},
   "outputs": [],
   "source": [
    "sns.distplot(mpg['mpg'], kde=True)"
   ]
  }
 ],
 "metadata": {
  "celltoolbar": "Slideshow",
  "kernelspec": {
   "display_name": "Python 3",
   "language": "python",
   "name": "python3"
  },
  "language_info": {
   "codemirror_mode": {
    "name": "ipython",
    "version": 3
   },
   "file_extension": ".py",
   "mimetype": "text/x-python",
   "name": "python",
   "nbconvert_exporter": "python",
   "pygments_lexer": "ipython3",
   "version": "3.8.3"
  }
 },
 "nbformat": 4,
 "nbformat_minor": 4
}
